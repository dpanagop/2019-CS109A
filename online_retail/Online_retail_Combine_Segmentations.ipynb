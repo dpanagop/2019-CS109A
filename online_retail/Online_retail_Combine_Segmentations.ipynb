{
  "nbformat": 4,
  "nbformat_minor": 0,
  "metadata": {
    "colab": {
      "name": "Online retail - Combine Segmentations.ipynb",
      "provenance": [],
      "collapsed_sections": [],
      "toc_visible": true,
      "authorship_tag": "ABX9TyP6ySweZdtMw8r1bh/9xq5O",
      "include_colab_link": true
    },
    "kernelspec": {
      "name": "python3",
      "display_name": "Python 3"
    }
  },
  "cells": [
    {
      "cell_type": "markdown",
      "metadata": {
        "id": "view-in-github",
        "colab_type": "text"
      },
      "source": [
        "<a href=\"https://colab.research.google.com/github/dpanagop/2019-CS109A/blob/master/online_retail/Online_retail_Combine_Segmentations.ipynb\" target=\"_parent\"><img src=\"https://colab.research.google.com/assets/colab-badge.svg\" alt=\"Open In Colab\"/></a>"
      ]
    },
    {
      "cell_type": "markdown",
      "metadata": {
        "id": "vMgo0NvkNM1C"
      },
      "source": [
        "# Customer Segmentaion of online retail customers\r\n",
        "## Part III - Combine Segmentations"
      ]
    },
    {
      "cell_type": "markdown",
      "metadata": {
        "id": "JJosaWskQR6X"
      },
      "source": [
        "## Introduction\r\n",
        "In this notebook wecombine the two customer segmentations of online retail customers dataset ( [Online Retail II Data Set](https://archive.ics.uci.edu/ml/datasets/Online+Retail+II) from UC Irvine Machine Learning Repository)\r\n",
        "\r\n",
        "Specifiacally, we combine\r\n",
        "* Customer [segmentation by category](https://github.com/dpanagop/data_analytics_examples/blob/master/online_retail/Online_retail_Segmentation_by_buying_category.ipynb) of bought items description and\r\n",
        "* Customer [segmentation by RFM and country](https://github.com/dpanagop/data_analytics_examples/blob/master/online_retail/Online_retail_Segmentation_by_RFM_Country.ipynb)."
      ]
    },
    {
      "cell_type": "markdown",
      "metadata": {
        "id": "JqY04x3ePHbb"
      },
      "source": [
        "## Loading libraries and results of segmentations\r\n"
      ]
    },
    {
      "cell_type": "code",
      "metadata": {
        "id": "SQd4r1DQ23sa"
      },
      "source": [
        "import pandas as pd\r\n",
        "import numpy as np\r\n",
        "import matplotlib.pyplot as plt\r\n",
        "import seaborn as sns\r\n",
        "sns.set_style(\"whitegrid\")"
      ],
      "execution_count": 1,
      "outputs": []
    },
    {
      "cell_type": "code",
      "metadata": {
        "colab": {
          "base_uri": "https://localhost:8080/"
        },
        "id": "19vwadc-9Aw1",
        "outputId": "0c180029-b65d-4740-dcc8-043ef32df7f5"
      },
      "source": [
        "!wget github.com/dpanagop/data_analytics_examples/raw/master/online_retail/customer_segments_RFM_country.pickle\r\n",
        "!wget github.com/dpanagop/data_analytics_examples/raw/master/online_retail/customer_segments_buying_categories.pickle"
      ],
      "execution_count": 2,
      "outputs": [
        {
          "output_type": "stream",
          "text": [
            "--2021-01-14 03:21:06--  http://github.com/dpanagop/data_analytics_examples/raw/master/online_retail/customer_segments_RFM_country.pickle\n",
            "Resolving github.com (github.com)... 140.82.113.4\n",
            "Connecting to github.com (github.com)|140.82.113.4|:80... connected.\n",
            "HTTP request sent, awaiting response... 301 Moved Permanently\n",
            "Location: https://github.com/dpanagop/data_analytics_examples/raw/master/online_retail/customer_segments_RFM_country.pickle [following]\n",
            "--2021-01-14 03:21:06--  https://github.com/dpanagop/data_analytics_examples/raw/master/online_retail/customer_segments_RFM_country.pickle\n",
            "Connecting to github.com (github.com)|140.82.113.4|:443... connected.\n",
            "HTTP request sent, awaiting response... 302 Found\n",
            "Location: https://raw.githubusercontent.com/dpanagop/data_analytics_examples/master/online_retail/customer_segments_RFM_country.pickle [following]\n",
            "--2021-01-14 03:21:06--  https://raw.githubusercontent.com/dpanagop/data_analytics_examples/master/online_retail/customer_segments_RFM_country.pickle\n",
            "Resolving raw.githubusercontent.com (raw.githubusercontent.com)... 151.101.0.133, 151.101.64.133, 151.101.128.133, ...\n",
            "Connecting to raw.githubusercontent.com (raw.githubusercontent.com)|151.101.0.133|:443... connected.\n",
            "HTTP request sent, awaiting response... 200 OK\n",
            "Length: 262528 (256K) [application/octet-stream]\n",
            "Saving to: ‘customer_segments_RFM_country.pickle’\n",
            "\n",
            "customer_segments_R 100%[===================>] 256.38K  --.-KB/s    in 0.02s   \n",
            "\n",
            "2021-01-14 03:21:06 (11.8 MB/s) - ‘customer_segments_RFM_country.pickle’ saved [262528/262528]\n",
            "\n",
            "URL transformed to HTTPS due to an HSTS policy\n",
            "--2021-01-14 03:21:06--  https://github.com/dpanagop/data_analytics_examples/raw/master/online_retail/customer_segments_buying_categories.pickle\n",
            "Resolving github.com (github.com)... 140.82.113.4\n",
            "Connecting to github.com (github.com)|140.82.113.4|:443... connected.\n",
            "HTTP request sent, awaiting response... 302 Found\n",
            "Location: https://raw.githubusercontent.com/dpanagop/data_analytics_examples/master/online_retail/customer_segments_buying_categories.pickle [following]\n",
            "--2021-01-14 03:21:07--  https://raw.githubusercontent.com/dpanagop/data_analytics_examples/master/online_retail/customer_segments_buying_categories.pickle\n",
            "Resolving raw.githubusercontent.com (raw.githubusercontent.com)... 151.101.0.133, 151.101.64.133, 151.101.128.133, ...\n",
            "Connecting to raw.githubusercontent.com (raw.githubusercontent.com)|151.101.0.133|:443... connected.\n",
            "HTTP request sent, awaiting response... 200 OK\n",
            "Length: 262338 (256K) [application/octet-stream]\n",
            "Saving to: ‘customer_segments_buying_categories.pickle’\n",
            "\n",
            "customer_segments_b 100%[===================>] 256.19K  --.-KB/s    in 0.02s   \n",
            "\n",
            "2021-01-14 03:21:07 (11.7 MB/s) - ‘customer_segments_buying_categories.pickle’ saved [262338/262338]\n",
            "\n"
          ],
          "name": "stdout"
        }
      ]
    },
    {
      "cell_type": "code",
      "metadata": {
        "id": "cwZSxK9P3PM0",
        "colab": {
          "base_uri": "https://localhost:8080/",
          "height": 206
        },
        "outputId": "af7916f6-b683-4a76-d283-d40ba7f952ef"
      },
      "source": [
        "customer_spending_per_category=pd.read_pickle('customer_segments_buying_categories.pickle')\r\n",
        "customer_spending_per_category.head()"
      ],
      "execution_count": 3,
      "outputs": [
        {
          "output_type": "execute_result",
          "data": {
            "text/html": [
              "<div>\n",
              "<style scoped>\n",
              "    .dataframe tbody tr th:only-of-type {\n",
              "        vertical-align: middle;\n",
              "    }\n",
              "\n",
              "    .dataframe tbody tr th {\n",
              "        vertical-align: top;\n",
              "    }\n",
              "\n",
              "    .dataframe thead th {\n",
              "        text-align: right;\n",
              "    }\n",
              "</style>\n",
              "<table border=\"1\" class=\"dataframe\">\n",
              "  <thead>\n",
              "    <tr style=\"text-align: right;\">\n",
              "      <th>category</th>\n",
              "      <th>Customer ID</th>\n",
              "      <th>0</th>\n",
              "      <th>1</th>\n",
              "      <th>2</th>\n",
              "      <th>3</th>\n",
              "      <th>cluster</th>\n",
              "    </tr>\n",
              "  </thead>\n",
              "  <tbody>\n",
              "    <tr>\n",
              "      <th>0</th>\n",
              "      <td>12346.0</td>\n",
              "      <td>0.841716</td>\n",
              "      <td>0.000000</td>\n",
              "      <td>0.158284</td>\n",
              "      <td>0.000000</td>\n",
              "      <td>1</td>\n",
              "    </tr>\n",
              "    <tr>\n",
              "      <th>1</th>\n",
              "      <td>12347.0</td>\n",
              "      <td>0.853972</td>\n",
              "      <td>0.101290</td>\n",
              "      <td>0.004168</td>\n",
              "      <td>0.040569</td>\n",
              "      <td>1</td>\n",
              "    </tr>\n",
              "    <tr>\n",
              "      <th>2</th>\n",
              "      <td>12348.0</td>\n",
              "      <td>0.910270</td>\n",
              "      <td>0.000000</td>\n",
              "      <td>0.046648</td>\n",
              "      <td>0.043082</td>\n",
              "      <td>1</td>\n",
              "    </tr>\n",
              "    <tr>\n",
              "      <th>3</th>\n",
              "      <td>12349.0</td>\n",
              "      <td>0.924907</td>\n",
              "      <td>0.008446</td>\n",
              "      <td>0.002316</td>\n",
              "      <td>0.064331</td>\n",
              "      <td>1</td>\n",
              "    </tr>\n",
              "    <tr>\n",
              "      <th>4</th>\n",
              "      <td>12350.0</td>\n",
              "      <td>0.938995</td>\n",
              "      <td>0.061005</td>\n",
              "      <td>0.000000</td>\n",
              "      <td>0.000000</td>\n",
              "      <td>1</td>\n",
              "    </tr>\n",
              "  </tbody>\n",
              "</table>\n",
              "</div>"
            ],
            "text/plain": [
              "category  Customer ID         0         1         2         3  cluster\n",
              "0             12346.0  0.841716  0.000000  0.158284  0.000000        1\n",
              "1             12347.0  0.853972  0.101290  0.004168  0.040569        1\n",
              "2             12348.0  0.910270  0.000000  0.046648  0.043082        1\n",
              "3             12349.0  0.924907  0.008446  0.002316  0.064331        1\n",
              "4             12350.0  0.938995  0.061005  0.000000  0.000000        1"
            ]
          },
          "metadata": {
            "tags": []
          },
          "execution_count": 3
        }
      ]
    },
    {
      "cell_type": "code",
      "metadata": {
        "colab": {
          "base_uri": "https://localhost:8080/",
          "height": 238
        },
        "id": "Z5MVReoK_Cff",
        "outputId": "09f39de0-da15-4028-f1b1-5e0a473056f4"
      },
      "source": [
        "customer_RFM_GDP=pd.read_pickle('customer_segments_RFM_country.pickle')\r\n",
        "customer_RFM_GDP.head()"
      ],
      "execution_count": 4,
      "outputs": [
        {
          "output_type": "execute_result",
          "data": {
            "text/html": [
              "<div>\n",
              "<style scoped>\n",
              "    .dataframe tbody tr th:only-of-type {\n",
              "        vertical-align: middle;\n",
              "    }\n",
              "\n",
              "    .dataframe tbody tr th {\n",
              "        vertical-align: top;\n",
              "    }\n",
              "\n",
              "    .dataframe thead th {\n",
              "        text-align: right;\n",
              "    }\n",
              "</style>\n",
              "<table border=\"1\" class=\"dataframe\">\n",
              "  <thead>\n",
              "    <tr style=\"text-align: right;\">\n",
              "      <th></th>\n",
              "      <th>recency</th>\n",
              "      <th>frequency</th>\n",
              "      <th>monetary_value</th>\n",
              "      <th>weighted GDP</th>\n",
              "      <th>cluster</th>\n",
              "    </tr>\n",
              "    <tr>\n",
              "      <th>Customer ID</th>\n",
              "      <th></th>\n",
              "      <th></th>\n",
              "      <th></th>\n",
              "      <th></th>\n",
              "      <th></th>\n",
              "    </tr>\n",
              "  </thead>\n",
              "  <tbody>\n",
              "    <tr>\n",
              "      <th>12346.0</th>\n",
              "      <td>325</td>\n",
              "      <td>42.647059</td>\n",
              "      <td>-3.804706</td>\n",
              "      <td>2638296.0</td>\n",
              "      <td>0</td>\n",
              "    </tr>\n",
              "    <tr>\n",
              "      <th>12347.0</th>\n",
              "      <td>1</td>\n",
              "      <td>50.375000</td>\n",
              "      <td>704.165000</td>\n",
              "      <td>20805.0</td>\n",
              "      <td>5</td>\n",
              "    </tr>\n",
              "    <tr>\n",
              "      <th>12348.0</th>\n",
              "      <td>74</td>\n",
              "      <td>87.400000</td>\n",
              "      <td>403.880000</td>\n",
              "      <td>267856.0</td>\n",
              "      <td>5</td>\n",
              "    </tr>\n",
              "    <tr>\n",
              "      <th>12349.0</th>\n",
              "      <td>18</td>\n",
              "      <td>147.000000</td>\n",
              "      <td>880.908000</td>\n",
              "      <td>1848222.0</td>\n",
              "      <td>2</td>\n",
              "    </tr>\n",
              "    <tr>\n",
              "      <th>12350.0</th>\n",
              "      <td>309</td>\n",
              "      <td>309.000000</td>\n",
              "      <td>334.400000</td>\n",
              "      <td>366386.0</td>\n",
              "      <td>5</td>\n",
              "    </tr>\n",
              "  </tbody>\n",
              "</table>\n",
              "</div>"
            ],
            "text/plain": [
              "             recency   frequency  monetary_value  weighted GDP  cluster\n",
              "Customer ID                                                            \n",
              "12346.0          325   42.647059       -3.804706     2638296.0        0\n",
              "12347.0            1   50.375000      704.165000       20805.0        5\n",
              "12348.0           74   87.400000      403.880000      267856.0        5\n",
              "12349.0           18  147.000000      880.908000     1848222.0        2\n",
              "12350.0          309  309.000000      334.400000      366386.0        5"
            ]
          },
          "metadata": {
            "tags": []
          },
          "execution_count": 4
        }
      ]
    },
    {
      "cell_type": "markdown",
      "metadata": {
        "id": "_6GYpW2j_UXE"
      },
      "source": [
        "As said in [Part I](https://github.com/dpanagop/data_analytics_examples/blob/master/online_retail/Online_retail_Segmentation_by_buying_category.ipynb), clustering based on categories spending resulted infour clusters with all of them having a high percentage of spending in category 0. In addition:\r\n",
        "* cluster 0 has customers with high spending in category 2,\r\n",
        "* cluster 1 has high spending only in category 0,\r\n",
        "* cluster 2 has customers with high spending in category 3,\r\n",
        "* cluster 3 has customers with high spending in category 1.\r\n",
        "\r\n"
      ]
    },
    {
      "cell_type": "code",
      "metadata": {
        "colab": {
          "base_uri": "https://localhost:8080/",
          "height": 426
        },
        "id": "kG8PDBIa7KO_",
        "outputId": "730c87b6-4621-4881-cc85-69c376fc2bba"
      },
      "source": [
        "def cluster_profile(customer_spending_per_category):\r\n",
        "  ''' profile clusters '''\r\n",
        "  customer_clusters=customer_spending_per_category.groupby(['cluster']).agg({'Customer ID':['count'], \r\n",
        "                                                         0:'median',\r\n",
        "                                                         1:'median',\r\n",
        "                                                         2:'median',\r\n",
        "                                                         3:'median'})\r\n",
        "  print(customer_clusters)\r\n",
        "  print('\\n')\r\n",
        "  customer_clusters=customer_clusters.drop([('Customer ID', 'count')],1)\r\n",
        "  customer_clusters.columns=[0,1,2,3]\r\n",
        "  \r\n",
        "  customer_clusters[0]=100*customer_clusters[0]\r\n",
        "  customer_clusters[1]=100*customer_clusters[1]\r\n",
        "  customer_clusters[2]=100*customer_clusters[2]\r\n",
        "  customer_clusters[3]=100*customer_clusters[3]\r\n",
        "  \r\n",
        "\r\n",
        "  sns.heatmap(customer_clusters, annot=True,  linewidths=.5)\r\n",
        "\r\n",
        "cluster_profile(customer_spending_per_category)"
      ],
      "execution_count": 7,
      "outputs": [
        {
          "output_type": "stream",
          "text": [
            "        Customer ID         0         1         2         3\n",
            "              count    median    median    median    median\n",
            "cluster                                                    \n",
            "0               421  0.670152  0.007819  0.228504  0.043079\n",
            "1              4287  0.892189  0.015741  0.001038  0.031568\n",
            "2               807  0.672202  0.005246  0.017402  0.246114\n",
            "3               427  0.534162  0.362365  0.000000  0.009505\n",
            "\n",
            "\n"
          ],
          "name": "stdout"
        },
        {
          "output_type": "display_data",
          "data": {
            "image/png": "[encoded data removed]",
            "text/plain": [
              "<Figure size 432x288 with 2 Axes>"
            ]
          },
          "metadata": {
            "tags": [],
            "needs_background": "light"
          }
        }
      ]
    },
    {
      "cell_type": "code",
      "metadata": {
        "colab": {
          "base_uri": "https://localhost:8080/"
        },
        "id": "iOGu1o2b_O9H",
        "outputId": "9a1ae437-720b-4af2-b603-ca73c590856b"
      },
      "source": [
        "customer_spending_per_category['cluster'].value_counts()"
      ],
      "execution_count": 5,
      "outputs": [
        {
          "output_type": "execute_result",
          "data": {
            "text/plain": [
              "1    4287\n",
              "2     807\n",
              "3     427\n",
              "0     421\n",
              "Name: cluster, dtype: int64"
            ]
          },
          "metadata": {
            "tags": []
          },
          "execution_count": 5
        }
      ]
    },
    {
      "cell_type": "markdown",
      "metadata": {
        "id": "O3A-9wA3ALY4"
      },
      "source": [
        "As for RFM-Country clustering from [Part II](https://github.com/dpanagop/data_analytics_examples/blob/master/online_retail/Online_retail_Segmentation_by_RFM_Country.ipynb), we have four major clusters that can be ranked by RFM score (from best to to worst) as:\r\n",
        "\r\n",
        "cluster 4 > cluster 0 > cluster 2/cluster 5\r\n",
        "\r\n",
        "and that cluster 2 has customers from countries with greater GDP than cluster 5.\r\n",
        "Thus, we will keep these four clusters plus one more into which we will merge the rest."
      ]
    },
    {
      "cell_type": "code",
      "metadata": {
        "colab": {
          "base_uri": "https://localhost:8080/"
        },
        "id": "6bL3wYQ2Blg3",
        "outputId": "a4846180-dd3f-4441-b565-571778364b8a"
      },
      "source": [
        "customer_RFM_GDP['cluster'].value_counts()"
      ],
      "execution_count": 6,
      "outputs": [
        {
          "output_type": "execute_result",
          "data": {
            "text/plain": [
              "2    3549\n",
              "0    1547\n",
              "4     572\n",
              "5     247\n",
              "6      17\n",
              "1       9\n",
              "3       1\n",
              "Name: cluster, dtype: int64"
            ]
          },
          "metadata": {
            "tags": []
          },
          "execution_count": 6
        }
      ]
    },
    {
      "cell_type": "code",
      "metadata": {
        "colab": {
          "base_uri": "https://localhost:8080/"
        },
        "id": "JpQX3zOgCwhA",
        "outputId": "4d8ce575-ba11-4b78-859a-2b548e7749d9"
      },
      "source": [
        "customer_RFM_GDP['RFM_country_cluster']=5\r\n",
        "customer_RFM_GDP.loc[customer_RFM_GDP['cluster']==0,'RFM_country_cluster']=0\r\n",
        "customer_RFM_GDP.loc[customer_RFM_GDP['cluster']==1,'RFM_country_cluster']=1\r\n",
        "customer_RFM_GDP.loc[customer_RFM_GDP['cluster']==4,'RFM_country_cluster']=2\r\n",
        "customer_RFM_GDP.loc[customer_RFM_GDP['cluster']==6,'RFM_country_cluster']=3\r\n",
        "customer_RFM_GDP['RFM_country_cluster'].value_counts()"
      ],
      "execution_count": null,
      "outputs": [
        {
          "output_type": "execute_result",
          "data": {
            "text/plain": [
              "0    3867\n",
              "2    1275\n",
              "1     506\n",
              "3     269\n",
              "5      25\n",
              "Name: RFM_country_cluster, dtype: int64"
            ]
          },
          "metadata": {
            "tags": []
          },
          "execution_count": 15
        }
      ]
    },
    {
      "cell_type": "code",
      "metadata": {
        "colab": {
          "base_uri": "https://localhost:8080/",
          "height": 260
        },
        "id": "tITyzXxfDdHi",
        "outputId": "80d613cd-15fd-4558-9ddc-4fd1e02e7dce"
      },
      "source": [
        "customer_RFM_GDP=customer_RFM_GDP.reset_index()\r\n",
        "customer_RFM_GDP=customer_RFM_GDP[['Customer ID','RFM_country_cluster']]\r\n",
        "print(customer_RFM_GDP.shape)\r\n",
        "customer_spending_per_category=customer_spending_per_category[['Customer ID','item_category_cluster']]\r\n",
        "print(customer_spending_per_category.shape)\r\n",
        "customer_clusters=pd.merge(customer_RFM_GDP,customer_spending_per_category)\r\n",
        "print(customer_clusters.shape)\r\n",
        "customer_clusters.head()"
      ],
      "execution_count": null,
      "outputs": [
        {
          "output_type": "stream",
          "text": [
            "(5942, 2)\n",
            "(5942, 2)\n",
            "(5942, 3)\n"
          ],
          "name": "stdout"
        },
        {
          "output_type": "execute_result",
          "data": {
            "text/html": [
              "<div>\n",
              "<style scoped>\n",
              "    .dataframe tbody tr th:only-of-type {\n",
              "        vertical-align: middle;\n",
              "    }\n",
              "\n",
              "    .dataframe tbody tr th {\n",
              "        vertical-align: top;\n",
              "    }\n",
              "\n",
              "    .dataframe thead th {\n",
              "        text-align: right;\n",
              "    }\n",
              "</style>\n",
              "<table border=\"1\" class=\"dataframe\">\n",
              "  <thead>\n",
              "    <tr style=\"text-align: right;\">\n",
              "      <th></th>\n",
              "      <th>Customer ID</th>\n",
              "      <th>RFM_country_cluster</th>\n",
              "      <th>item_category_cluster</th>\n",
              "    </tr>\n",
              "  </thead>\n",
              "  <tbody>\n",
              "    <tr>\n",
              "      <th>0</th>\n",
              "      <td>12346.0</td>\n",
              "      <td>0</td>\n",
              "      <td>1</td>\n",
              "    </tr>\n",
              "    <tr>\n",
              "      <th>1</th>\n",
              "      <td>12347.0</td>\n",
              "      <td>3</td>\n",
              "      <td>1</td>\n",
              "    </tr>\n",
              "    <tr>\n",
              "      <th>2</th>\n",
              "      <td>12348.0</td>\n",
              "      <td>3</td>\n",
              "      <td>1</td>\n",
              "    </tr>\n",
              "    <tr>\n",
              "      <th>3</th>\n",
              "      <td>12349.0</td>\n",
              "      <td>3</td>\n",
              "      <td>1</td>\n",
              "    </tr>\n",
              "    <tr>\n",
              "      <th>4</th>\n",
              "      <td>12350.0</td>\n",
              "      <td>3</td>\n",
              "      <td>1</td>\n",
              "    </tr>\n",
              "  </tbody>\n",
              "</table>\n",
              "</div>"
            ],
            "text/plain": [
              "   Customer ID  RFM_country_cluster  item_category_cluster\n",
              "0      12346.0                    0                      1\n",
              "1      12347.0                    3                      1\n",
              "2      12348.0                    3                      1\n",
              "3      12349.0                    3                      1\n",
              "4      12350.0                    3                      1"
            ]
          },
          "metadata": {
            "tags": []
          },
          "execution_count": 20
        }
      ]
    },
    {
      "cell_type": "code",
      "metadata": {
        "colab": {
          "base_uri": "https://localhost:8080/",
          "height": 238
        },
        "id": "B8hUIW5ODyhy",
        "outputId": "746c6c54-4dce-44d9-de1b-29dfdb1384c1"
      },
      "source": [
        "pd.crosstab(customer_clusters['RFM_country_cluster'],customer_clusters['item_category_cluster'])"
      ],
      "execution_count": null,
      "outputs": [
        {
          "output_type": "execute_result",
          "data": {
            "text/html": [
              "<div>\n",
              "<style scoped>\n",
              "    .dataframe tbody tr th:only-of-type {\n",
              "        vertical-align: middle;\n",
              "    }\n",
              "\n",
              "    .dataframe tbody tr th {\n",
              "        vertical-align: top;\n",
              "    }\n",
              "\n",
              "    .dataframe thead th {\n",
              "        text-align: right;\n",
              "    }\n",
              "</style>\n",
              "<table border=\"1\" class=\"dataframe\">\n",
              "  <thead>\n",
              "    <tr style=\"text-align: right;\">\n",
              "      <th>item_category_cluster</th>\n",
              "      <th>0</th>\n",
              "      <th>1</th>\n",
              "      <th>3</th>\n",
              "    </tr>\n",
              "    <tr>\n",
              "      <th>RFM_country_cluster</th>\n",
              "      <th></th>\n",
              "      <th></th>\n",
              "      <th></th>\n",
              "    </tr>\n",
              "  </thead>\n",
              "  <tbody>\n",
              "    <tr>\n",
              "      <th>0</th>\n",
              "      <td>885</td>\n",
              "      <td>2953</td>\n",
              "      <td>29</td>\n",
              "    </tr>\n",
              "    <tr>\n",
              "      <th>1</th>\n",
              "      <td>0</td>\n",
              "      <td>506</td>\n",
              "      <td>0</td>\n",
              "    </tr>\n",
              "    <tr>\n",
              "      <th>2</th>\n",
              "      <td>26</td>\n",
              "      <td>1249</td>\n",
              "      <td>0</td>\n",
              "    </tr>\n",
              "    <tr>\n",
              "      <th>3</th>\n",
              "      <td>34</td>\n",
              "      <td>234</td>\n",
              "      <td>1</td>\n",
              "    </tr>\n",
              "    <tr>\n",
              "      <th>5</th>\n",
              "      <td>7</td>\n",
              "      <td>13</td>\n",
              "      <td>5</td>\n",
              "    </tr>\n",
              "  </tbody>\n",
              "</table>\n",
              "</div>"
            ],
            "text/plain": [
              "item_category_cluster    0     1   3\n",
              "RFM_country_cluster                 \n",
              "0                      885  2953  29\n",
              "1                        0   506   0\n",
              "2                       26  1249   0\n",
              "3                       34   234   1\n",
              "5                        7    13   5"
            ]
          },
          "metadata": {
            "tags": []
          },
          "execution_count": 21
        }
      ]
    },
    {
      "cell_type": "code",
      "metadata": {
        "colab": {
          "base_uri": "https://localhost:8080/",
          "height": 238
        },
        "id": "F2TppJD8F821",
        "outputId": "50b56e82-f7c1-4744-d729-aecd7c002883"
      },
      "source": [
        "pd.crosstab(customer_clusters['RFM_country_cluster'],customer_clusters['item_category_cluster'])/5942*100"
      ],
      "execution_count": null,
      "outputs": [
        {
          "output_type": "execute_result",
          "data": {
            "text/html": [
              "<div>\n",
              "<style scoped>\n",
              "    .dataframe tbody tr th:only-of-type {\n",
              "        vertical-align: middle;\n",
              "    }\n",
              "\n",
              "    .dataframe tbody tr th {\n",
              "        vertical-align: top;\n",
              "    }\n",
              "\n",
              "    .dataframe thead th {\n",
              "        text-align: right;\n",
              "    }\n",
              "</style>\n",
              "<table border=\"1\" class=\"dataframe\">\n",
              "  <thead>\n",
              "    <tr style=\"text-align: right;\">\n",
              "      <th>item_category_cluster</th>\n",
              "      <th>0</th>\n",
              "      <th>1</th>\n",
              "      <th>3</th>\n",
              "    </tr>\n",
              "    <tr>\n",
              "      <th>RFM_country_cluster</th>\n",
              "      <th></th>\n",
              "      <th></th>\n",
              "      <th></th>\n",
              "    </tr>\n",
              "  </thead>\n",
              "  <tbody>\n",
              "    <tr>\n",
              "      <th>0</th>\n",
              "      <td>14.893975</td>\n",
              "      <td>49.697072</td>\n",
              "      <td>0.488051</td>\n",
              "    </tr>\n",
              "    <tr>\n",
              "      <th>1</th>\n",
              "      <td>0.000000</td>\n",
              "      <td>8.515651</td>\n",
              "      <td>0.000000</td>\n",
              "    </tr>\n",
              "    <tr>\n",
              "      <th>2</th>\n",
              "      <td>0.437563</td>\n",
              "      <td>21.019859</td>\n",
              "      <td>0.000000</td>\n",
              "    </tr>\n",
              "    <tr>\n",
              "      <th>3</th>\n",
              "      <td>0.572198</td>\n",
              "      <td>3.938068</td>\n",
              "      <td>0.016829</td>\n",
              "    </tr>\n",
              "    <tr>\n",
              "      <th>5</th>\n",
              "      <td>0.117805</td>\n",
              "      <td>0.218782</td>\n",
              "      <td>0.084147</td>\n",
              "    </tr>\n",
              "  </tbody>\n",
              "</table>\n",
              "</div>"
            ],
            "text/plain": [
              "item_category_cluster          0          1         3\n",
              "RFM_country_cluster                                  \n",
              "0                      14.893975  49.697072  0.488051\n",
              "1                       0.000000   8.515651  0.000000\n",
              "2                       0.437563  21.019859  0.000000\n",
              "3                       0.572198   3.938068  0.016829\n",
              "5                       0.117805   0.218782  0.084147"
            ]
          },
          "metadata": {
            "tags": []
          },
          "execution_count": 32
        }
      ]
    },
    {
      "cell_type": "code",
      "metadata": {
        "id": "F5ZqSD64GX6W"
      },
      "source": [
        ""
      ],
      "execution_count": null,
      "outputs": []
    }
  ]
}